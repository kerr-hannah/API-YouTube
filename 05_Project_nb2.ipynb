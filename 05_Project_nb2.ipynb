{
 "cells": [
  {
   "cell_type": "markdown",
   "metadata": {},
   "source": [
    "## Notebook Two\n",
    "In this notebook we use YouTube's API to find data about the most popular or trending videos on YouTube. Due to limitations imposed by Youtube, we can only gather information on the current top 200 videos. We start by importing all modules, packages, and libraries that will be needed."
   ]
  },
  {
   "cell_type": "code",
   "execution_count": 1,
   "metadata": {
    "collapsed": true
   },
   "outputs": [],
   "source": [
    "import requests\n",
    "import json\n",
    "from requests_oauthlib import OAuth2Session\n",
    "import pandas as pd\n",
    "import matplotlib.pyplot as plt"
   ]
  },
  {
   "cell_type": "markdown",
   "metadata": {},
   "source": [
    "Here we open the file 'dump.bin', where all the information we created in the first notebook was stored for later use. We open the file and use the json.load method to read the json object into a dictionary. From here we then create a variable for each entry in the dictionary"
   ]
  },
  {
   "cell_type": "code",
   "execution_count": 2,
   "metadata": {},
   "outputs": [],
   "source": [
    "f = open('dump.bin', 'r')\n",
    "d = json.load(f)\n",
    "f.close()\n",
    "\n",
    "state = d['state']\n",
    "client_id = d['client_id']\n",
    "client_secret = d['client_secret']\n",
    "scope = d['scope']\n",
    "code = d['code']\n",
    "token = d['token']\n",
    "refresh_token = d['refresh_token']\n",
    "token_uri = d['token_uri']\n",
    "redirect = d['redirect']\n",
    "auth_uri = d['auth_uri']"
   ]
  },
  {
   "cell_type": "code",
   "execution_count": 3,
   "metadata": {
    "collapsed": true
   },
   "outputs": [],
   "source": [
    "# URLs\n",
    "channels_URL = 'https://www.googleapis.com/youtube/v3/channels'\n",
    "videos = 'https://www.googleapis.com/youtube/v3/videos'"
   ]
  },
  {
   "cell_type": "markdown",
   "metadata": {},
   "source": [
    "Above is the creation of the different URL's that, along with some parameters, we will use to request data from the API. Below we create an OAuth2Session so that we can gain access to the API."
   ]
  },
  {
   "cell_type": "code",
   "execution_count": 4,
   "metadata": {
    "collapsed": true
   },
   "outputs": [],
   "source": [
    "session = OAuth2Session(client_id, scope=scope, redirect_uri=redirect)"
   ]
  },
  {
   "cell_type": "code",
   "execution_count": 5,
   "metadata": {
    "collapsed": true
   },
   "outputs": [],
   "source": [
    "def get(url, params, token):\n",
    "    '''\n",
    "    This function preforms the request from the API. Depending on the status code that is returned it will either print\n",
    "    a status code indicating success or an error. If the token has expired, the funciton will print \"Error 401. Refreshing token...\"\n",
    "    and then refreshes the token and re-executes the request.\n",
    "    The return value is the response object from the request.\n",
    "    '''\n",
    "    r = None\n",
    "\n",
    "    r = requests.get(url, params)\n",
    "\n",
    "    ### Check for errors\n",
    "    if r.status_code == 400:\n",
    "        print(\"Error 400: Bad request. Although this should work, it does not\")\n",
    "        r = None\n",
    "    if r.status_code == 401:\n",
    "        print('Error 401. Refreshing token...')\n",
    "        #refresh token \n",
    "        \n",
    "        refresh_url = token_uri\n",
    "        token = session.refresh_token(refresh_url, \n",
    "                                      refresh_token = refresh_token,\n",
    "                                      client_id=client_id,\n",
    "                                      client_secret=client_secret)\n",
    "        params['access_token'] = token['access_token']\n",
    "        r = requests.get(url, params)\n",
    "        print(r.status_code)\n",
    "    if r.status_code == 403:\n",
    "        r = None\n",
    "    if r.status_code == 404:\n",
    "        print(\"Error 404: The channel was not found.\")\n",
    "        r = None\n",
    "               \n",
    "    return r"
   ]
  },
  {
   "cell_type": "markdown",
   "metadata": {},
   "source": [
    "Below we initialize four different dictionaries that will be made into pandas data frames. The information that is gathered from our requests will fill the corresponding dictionaries."
   ]
  },
  {
   "cell_type": "code",
   "execution_count": 6,
   "metadata": {
    "collapsed": true
   },
   "outputs": [],
   "source": [
    "snippet = {'v_id':[], 'channel_id':[], 'channel_title':[], 'published_at':[], 'v_title':[], 'v_desc':[]}\n",
    "tags = {'v_id':[], 'tag':[]}\n",
    "channels = {'channel_id':[], 'country':[], 'subscribers':[], 'channel_title':[], 'num_videos':[]}\n",
    "stats = {'v_id':[], 'likes':[], 'dislikes':[], 'views':[], 'comments':[]}\n",
    "content_details = {'v_id':[],'caption':[], 'definition':[], 'duration':[]}\n",
    "\n",
    "params = {}\n",
    "params['part'] = 'snippet,statistics,contentDetails'\n",
    "params['chart'] = 'mostPopular'\n",
    "params['access_token'] = token['access_token']\n",
    "params['mine'] = True\n",
    "params['maxResults'] = 50\n",
    "params['pageToken'] = ''\n",
    "\n",
    "num_pages = 4"
   ]
  },
  {
   "cell_type": "markdown",
   "metadata": {},
   "source": [
    "Here we actually gather the data, using the get method defined above, through a series of loops. We are gathering data from the top 200 most popular/trending videos at this current time. The code below uses the page token to loop and gather information from the multiple pages of results that are returned."
   ]
  },
  {
   "cell_type": "code",
   "execution_count": 7,
   "metadata": {},
   "outputs": [
    {
     "name": "stdout",
     "output_type": "stream",
     "text": [
      "Error 401. Refreshing token...\n",
      "200\n"
     ]
    }
   ],
   "source": [
    "for i in range(0,num_pages):\n",
    "    r = get(videos, params, token)\n",
    "    retval = json.loads(r.text)\n",
    "  \n",
    "    if retval != None:\n",
    "        for j in retval['items']:\n",
    "            ### Snippet\n",
    "            s = j['snippet']\n",
    "            snippet['v_id'].append(j['id'])\n",
    "            snippet['channel_id'].append(s['channelId'])\n",
    "            snippet['channel_title'].append(s['channelTitle'])\n",
    "            snippet['published_at'].append(s['publishedAt'])\n",
    "            snippet['v_title'].append(s['title'])\n",
    "            snippet['v_desc'].append(s['description'])\n",
    "\n",
    "            ### Tags\n",
    "            try:\n",
    "                t = s['tags']\n",
    "                for k in t:\n",
    "                    tags['v_id'].append(j['id'])\n",
    "                    tags['tag'].append(k)\n",
    "            except:\n",
    "                pass\n",
    "\n",
    "            ### Statistics\n",
    "\n",
    "            s = j['statistics']\n",
    "            stats['v_id'].append(j['id'])\n",
    "            try:\n",
    "                stats['likes'].append(int(s['likeCount']))\n",
    "            except:\n",
    "                stats['likes'].append(None)\n",
    "            try:\n",
    "                stats['dislikes'].append(int(s['dislikeCount']))\n",
    "            except:\n",
    "                stats['dislikes'].append(None)\n",
    "            try:\n",
    "                stats['comments'].append(int(s['commentCount']))\n",
    "            except:\n",
    "                stats['comments'].append(None)\n",
    "            stats['views'].append(int(s['viewCount']))\n",
    "\n",
    "            ### Content Details\n",
    "            s = j['contentDetails']\n",
    "            content_details['v_id'].append(str(j['id']))\n",
    "            content_details['caption'].append(bool(s['caption']))\n",
    "            content_details['definition'].append(s['definition'])\n",
    "            content_details['duration'].append(s['duration'])\n",
    "\n",
    "    ### Get next page\n",
    "    try:\n",
    "        params['pageToken'] = retval['nextPageToken']\n",
    "    except:\n",
    "        break\n",
    "    "
   ]
  },
  {
   "cell_type": "markdown",
   "metadata": {
    "collapsed": true
   },
   "source": [
    "In the cell above, we populate the dictionaries snippet, tags, statistics, and content_details. Below is the data gathering and populating for the dictionary channels. These are separtated because they use different urls."
   ]
  },
  {
   "cell_type": "code",
   "execution_count": 11,
   "metadata": {},
   "outputs": [
    {
     "name": "stdout",
     "output_type": "stream",
     "text": [
      "Error 401. Refreshing token...\n",
      "200\n"
     ]
    }
   ],
   "source": [
    "chan_parm = {}\n",
    "chan_parm['part'] = 'snippet,statistics'\n",
    "chan_parm['id'] = ''\n",
    "chan_parm['access_token'] = token['access_token']\n",
    "chan_parm['maxResults'] = 50\n",
    "channels_list = snippet['channel_id']\n",
    "    \n",
    "for i in range(0,num_pages*50, 50):\n",
    "    channels_string = ','.join(channels_list[i:i+50])\n",
    "    chan_parm['id'] = channels_string\n",
    "    r = get(channels_URL, chan_parm, token)\n",
    "    retval = json.loads(r.text)\n",
    "    \n",
    "    if retval != None:\n",
    "        for j in retval['items']:\n",
    "            snip = j['snippet']\n",
    "            stat = j['statistics']\n",
    "\n",
    "            channels['channel_id'].append(j['id'])\n",
    "            channels['subscribers'].append(int(stat['subscriberCount']))\n",
    "            channels['channel_title'].append(snip['title'])\n",
    "            channels['num_videos'].append(int(stat['videoCount']))\n",
    "\n",
    "            try:\n",
    "                channels['country'].append(snip['country'])\n",
    "            except:\n",
    "                channels['country'].append('')\n",
    "    \n",
    "    "
   ]
  },
  {
   "cell_type": "markdown",
   "metadata": {},
   "source": [
    "The cell below creates a pandas DataFrame from the dictionary snippet. We had to separate the published_at column into published_date and published_time in order to maintain a tidy dataset and for future compatibility with Tableau."
   ]
  },
  {
   "cell_type": "code",
   "execution_count": 12,
   "metadata": {},
   "outputs": [
    {
     "name": "stdout",
     "output_type": "stream",
     "text": [
      "<class 'pandas.core.frame.DataFrame'>\n",
      "RangeIndex: 200 entries, 0 to 199\n",
      "Data columns (total 7 columns):\n",
      "channel_id        200 non-null object\n",
      "channel_title     200 non-null object\n",
      "v_desc            200 non-null object\n",
      "v_id              200 non-null object\n",
      "v_title           200 non-null object\n",
      "published_date    200 non-null object\n",
      "published_time    200 non-null object\n",
      "dtypes: object(7)\n",
      "memory usage: 11.0+ KB\n",
      "None\n"
     ]
    },
    {
     "data": {
      "text/html": [
       "<div>\n",
       "<style>\n",
       "    .dataframe thead tr:only-child th {\n",
       "        text-align: right;\n",
       "    }\n",
       "\n",
       "    .dataframe thead th {\n",
       "        text-align: left;\n",
       "    }\n",
       "\n",
       "    .dataframe tbody tr th {\n",
       "        vertical-align: top;\n",
       "    }\n",
       "</style>\n",
       "<table border=\"1\" class=\"dataframe\">\n",
       "  <thead>\n",
       "    <tr style=\"text-align: right;\">\n",
       "      <th></th>\n",
       "      <th>channel_id</th>\n",
       "      <th>channel_title</th>\n",
       "      <th>v_desc</th>\n",
       "      <th>v_id</th>\n",
       "      <th>v_title</th>\n",
       "      <th>published_date</th>\n",
       "      <th>published_time</th>\n",
       "    </tr>\n",
       "  </thead>\n",
       "  <tbody>\n",
       "    <tr>\n",
       "      <th>0</th>\n",
       "      <td>UCG8rbF3g2AMX70yOd8vqIZg</td>\n",
       "      <td>Logan Paul Vlogs</td>\n",
       "      <td>MAVERICK MERCH IS WHERE IT'S AT ► https://Shop...</td>\n",
       "      <td>khPLWaBioOs</td>\n",
       "      <td>Logan Paul - SANTA DISS TRACK (Official Music ...</td>\n",
       "      <td>2017-12-10</td>\n",
       "      <td>21:32:44.000</td>\n",
       "    </tr>\n",
       "    <tr>\n",
       "      <th>1</th>\n",
       "      <td>UCPFVhmjjSkFhfstm2LghZIg</td>\n",
       "      <td>TheAngryGrandpaShow</td>\n",
       "      <td>Today it's my unfortunate responsibility to te...</td>\n",
       "      <td>t5_dSCu_mLY</td>\n",
       "      <td>RIP ANGRY GRANDPA</td>\n",
       "      <td>2017-12-11</td>\n",
       "      <td>00:22:13.000</td>\n",
       "    </tr>\n",
       "    <tr>\n",
       "      <th>2</th>\n",
       "      <td>UCE_--R1P5-kfBzHTca0dsnw</td>\n",
       "      <td>Complex</td>\n",
       "      <td>Scott Disick goes Sneaker Shopping with Joe La...</td>\n",
       "      <td>r4VJ8o6yqzM</td>\n",
       "      <td>Scott Disick Goes Sneaker Shopping With Complex</td>\n",
       "      <td>2017-12-11</td>\n",
       "      <td>15:00:04.000</td>\n",
       "    </tr>\n",
       "    <tr>\n",
       "      <th>3</th>\n",
       "      <td>UC6MFZAOHXlKK1FI7V0XQVeA</td>\n",
       "      <td>ProZD</td>\n",
       "      <td>My Twitter: https://twitter.com/prozdkp\\nMy Le...</td>\n",
       "      <td>t5Lz14wu1uw</td>\n",
       "      <td>ready player one</td>\n",
       "      <td>2017-12-11</td>\n",
       "      <td>19:04:05.000</td>\n",
       "    </tr>\n",
       "    <tr>\n",
       "      <th>4</th>\n",
       "      <td>UCftwRNsjfRo08xYE31tkiyw</td>\n",
       "      <td>WIRED</td>\n",
       "      <td>Star Wars: The Last Jedi stars Mark Hamill, La...</td>\n",
       "      <td>UH0nTHb6OdY</td>\n",
       "      <td>The Last Jedi Cast Answers the Web's Most Sear...</td>\n",
       "      <td>2017-12-11</td>\n",
       "      <td>18:18:43.000</td>\n",
       "    </tr>\n",
       "  </tbody>\n",
       "</table>\n",
       "</div>"
      ],
      "text/plain": [
       "                 channel_id        channel_title  \\\n",
       "0  UCG8rbF3g2AMX70yOd8vqIZg     Logan Paul Vlogs   \n",
       "1  UCPFVhmjjSkFhfstm2LghZIg  TheAngryGrandpaShow   \n",
       "2  UCE_--R1P5-kfBzHTca0dsnw              Complex   \n",
       "3  UC6MFZAOHXlKK1FI7V0XQVeA                ProZD   \n",
       "4  UCftwRNsjfRo08xYE31tkiyw                WIRED   \n",
       "\n",
       "                                              v_desc         v_id  \\\n",
       "0  MAVERICK MERCH IS WHERE IT'S AT ► https://Shop...  khPLWaBioOs   \n",
       "1  Today it's my unfortunate responsibility to te...  t5_dSCu_mLY   \n",
       "2  Scott Disick goes Sneaker Shopping with Joe La...  r4VJ8o6yqzM   \n",
       "3  My Twitter: https://twitter.com/prozdkp\\nMy Le...  t5Lz14wu1uw   \n",
       "4  Star Wars: The Last Jedi stars Mark Hamill, La...  UH0nTHb6OdY   \n",
       "\n",
       "                                             v_title published_date  \\\n",
       "0  Logan Paul - SANTA DISS TRACK (Official Music ...     2017-12-10   \n",
       "1                                  RIP ANGRY GRANDPA     2017-12-11   \n",
       "2    Scott Disick Goes Sneaker Shopping With Complex     2017-12-11   \n",
       "3                                   ready player one     2017-12-11   \n",
       "4  The Last Jedi Cast Answers the Web's Most Sear...     2017-12-11   \n",
       "\n",
       "  published_time  \n",
       "0   21:32:44.000  \n",
       "1   00:22:13.000  \n",
       "2   15:00:04.000  \n",
       "3   19:04:05.000  \n",
       "4   18:18:43.000  "
      ]
     },
     "execution_count": 12,
     "metadata": {},
     "output_type": "execute_result"
    }
   ],
   "source": [
    "df_snippet = pd.DataFrame(snippet)\n",
    "published_at = df_snippet['published_at']\n",
    "date = [i[0:i.index('T')] for i in published_at]\n",
    "time = [i[i.index('T')+1:-1] for i in published_at]\n",
    "\n",
    "df_snippet = df_snippet.drop('published_at', axis=1)\n",
    "df_snippet['published_date'] = date\n",
    "df_snippet['published_time'] = time\n",
    "print(df_snippet.info())\n",
    "df_snippet.head()"
   ]
  },
  {
   "cell_type": "code",
   "execution_count": null,
   "metadata": {},
   "outputs": [],
   "source": [
    "df_snippet.sort_values('channel_title').head()"
   ]
  },
  {
   "cell_type": "code",
   "execution_count": 13,
   "metadata": {
    "scrolled": false
   },
   "outputs": [
    {
     "name": "stdout",
     "output_type": "stream",
     "text": [
      "<class 'pandas.core.frame.DataFrame'>\n",
      "RangeIndex: 4123 entries, 0 to 4122\n",
      "Data columns (total 2 columns):\n",
      "tag     4123 non-null object\n",
      "v_id    4123 non-null object\n",
      "dtypes: object(2)\n",
      "memory usage: 64.5+ KB\n",
      "None\n"
     ]
    },
    {
     "data": {
      "text/html": [
       "<div>\n",
       "<style>\n",
       "    .dataframe thead tr:only-child th {\n",
       "        text-align: right;\n",
       "    }\n",
       "\n",
       "    .dataframe thead th {\n",
       "        text-align: left;\n",
       "    }\n",
       "\n",
       "    .dataframe tbody tr th {\n",
       "        vertical-align: top;\n",
       "    }\n",
       "</style>\n",
       "<table border=\"1\" class=\"dataframe\">\n",
       "  <thead>\n",
       "    <tr style=\"text-align: right;\">\n",
       "      <th></th>\n",
       "      <th>tag</th>\n",
       "      <th>v_id</th>\n",
       "    </tr>\n",
       "  </thead>\n",
       "  <tbody>\n",
       "    <tr>\n",
       "      <th>0</th>\n",
       "      <td>logan paul vlog</td>\n",
       "      <td>khPLWaBioOs</td>\n",
       "    </tr>\n",
       "    <tr>\n",
       "      <th>1</th>\n",
       "      <td>logan paul</td>\n",
       "      <td>khPLWaBioOs</td>\n",
       "    </tr>\n",
       "    <tr>\n",
       "      <th>2</th>\n",
       "      <td>logan</td>\n",
       "      <td>khPLWaBioOs</td>\n",
       "    </tr>\n",
       "    <tr>\n",
       "      <th>3</th>\n",
       "      <td>paul</td>\n",
       "      <td>khPLWaBioOs</td>\n",
       "    </tr>\n",
       "    <tr>\n",
       "      <th>4</th>\n",
       "      <td>olympics</td>\n",
       "      <td>khPLWaBioOs</td>\n",
       "    </tr>\n",
       "  </tbody>\n",
       "</table>\n",
       "</div>"
      ],
      "text/plain": [
       "               tag         v_id\n",
       "0  logan paul vlog  khPLWaBioOs\n",
       "1       logan paul  khPLWaBioOs\n",
       "2            logan  khPLWaBioOs\n",
       "3             paul  khPLWaBioOs\n",
       "4         olympics  khPLWaBioOs"
      ]
     },
     "execution_count": 13,
     "metadata": {},
     "output_type": "execute_result"
    }
   ],
   "source": [
    "df_tags = pd.DataFrame(tags)\n",
    "print(df_tags.info())\n",
    "df_tags.head()"
   ]
  },
  {
   "cell_type": "code",
   "execution_count": 14,
   "metadata": {},
   "outputs": [
    {
     "data": {
      "image/png": "[encoded data removed]",
      "text/plain": [
       "<matplotlib.figure.Figure at 0x230a045ca58>"
      ]
     },
     "metadata": {},
     "output_type": "display_data"
    }
   ],
   "source": [
    "d = {}\n",
    "for i in df_tags['tag']:\n",
    "    if i not in d:\n",
    "        d[i] = 1\n",
    "    else:\n",
    "        d[i] = d[i] + 1\n",
    "plt.bar(range(len(d)), list(d.values()))\n",
    "plt.show()\n"
   ]
  },
  {
   "cell_type": "markdown",
   "metadata": {},
   "source": [
    "Above we created a pandas DataFrame from the tags dictionary. Then we created a basic pyplot bar graph to visualize frequency of tags. We will go into greater detail on this visualization using Tableau."
   ]
  },
  {
   "cell_type": "code",
   "execution_count": 16,
   "metadata": {},
   "outputs": [
    {
     "name": "stdout",
     "output_type": "stream",
     "text": [
      "<class 'pandas.core.frame.DataFrame'>\n",
      "RangeIndex: 200 entries, 0 to 199\n",
      "Data columns (total 5 columns):\n",
      "comments    198 non-null float64\n",
      "dislikes    200 non-null int64\n",
      "likes       200 non-null int64\n",
      "v_id        200 non-null object\n",
      "views       200 non-null int64\n",
      "dtypes: float64(1), int64(3), object(1)\n",
      "memory usage: 7.9+ KB\n",
      "None\n"
     ]
    },
    {
     "data": {
      "text/html": [
       "<div>\n",
       "<style>\n",
       "    .dataframe thead tr:only-child th {\n",
       "        text-align: right;\n",
       "    }\n",
       "\n",
       "    .dataframe thead th {\n",
       "        text-align: left;\n",
       "    }\n",
       "\n",
       "    .dataframe tbody tr th {\n",
       "        vertical-align: top;\n",
       "    }\n",
       "</style>\n",
       "<table border=\"1\" class=\"dataframe\">\n",
       "  <thead>\n",
       "    <tr style=\"text-align: right;\">\n",
       "      <th></th>\n",
       "      <th>comments</th>\n",
       "      <th>dislikes</th>\n",
       "      <th>likes</th>\n",
       "      <th>v_id</th>\n",
       "      <th>views</th>\n",
       "    </tr>\n",
       "  </thead>\n",
       "  <tbody>\n",
       "    <tr>\n",
       "      <th>0</th>\n",
       "      <td>116016.0</td>\n",
       "      <td>57794</td>\n",
       "      <td>704344</td>\n",
       "      <td>khPLWaBioOs</td>\n",
       "      <td>5633225</td>\n",
       "    </tr>\n",
       "    <tr>\n",
       "      <th>1</th>\n",
       "      <td>136188.0</td>\n",
       "      <td>3654</td>\n",
       "      <td>304136</td>\n",
       "      <td>t5_dSCu_mLY</td>\n",
       "      <td>2149645</td>\n",
       "    </tr>\n",
       "    <tr>\n",
       "      <th>2</th>\n",
       "      <td>2425.0</td>\n",
       "      <td>925</td>\n",
       "      <td>16742</td>\n",
       "      <td>r4VJ8o6yqzM</td>\n",
       "      <td>278730</td>\n",
       "    </tr>\n",
       "    <tr>\n",
       "      <th>3</th>\n",
       "      <td>818.0</td>\n",
       "      <td>137</td>\n",
       "      <td>10837</td>\n",
       "      <td>t5Lz14wu1uw</td>\n",
       "      <td>98721</td>\n",
       "    </tr>\n",
       "    <tr>\n",
       "      <th>4</th>\n",
       "      <td>3717.0</td>\n",
       "      <td>507</td>\n",
       "      <td>24526</td>\n",
       "      <td>UH0nTHb6OdY</td>\n",
       "      <td>250236</td>\n",
       "    </tr>\n",
       "  </tbody>\n",
       "</table>\n",
       "</div>"
      ],
      "text/plain": [
       "   comments  dislikes   likes         v_id    views\n",
       "0  116016.0     57794  704344  khPLWaBioOs  5633225\n",
       "1  136188.0      3654  304136  t5_dSCu_mLY  2149645\n",
       "2    2425.0       925   16742  r4VJ8o6yqzM   278730\n",
       "3     818.0       137   10837  t5Lz14wu1uw    98721\n",
       "4    3717.0       507   24526  UH0nTHb6OdY   250236"
      ]
     },
     "execution_count": 16,
     "metadata": {},
     "output_type": "execute_result"
    }
   ],
   "source": [
    "df_stats = pd.DataFrame(stats)\n",
    "print(df_stats.info())\n",
    "df_stats.head()"
   ]
  },
  {
   "cell_type": "code",
   "execution_count": 17,
   "metadata": {},
   "outputs": [
    {
     "data": {
      "image/png": "[encoded data removed]",
      "text/plain": [
       "<matplotlib.figure.Figure at 0x230a1aa32b0>"
      ]
     },
     "metadata": {},
     "output_type": "display_data"
    }
   ],
   "source": [
    "plt.plot(list(df_stats['views']), list(df_stats['likes']), 'go')\n",
    "plt.plot(list(df_stats['views']), list(df_stats['dislikes']), 'ro')\n",
    "plt.plot(list(df_stats['views']), list(df_stats['comments']), 'bo')\n",
    "plt.axis([0,500000, 0,20000])\n",
    "plt.show()"
   ]
  },
  {
   "cell_type": "markdown",
   "metadata": {},
   "source": [
    "Above is the creation of the stats data frame from the statistics dictionary as well as a basic visualization in pyplot."
   ]
  },
  {
   "cell_type": "code",
   "execution_count": 18,
   "metadata": {},
   "outputs": [
    {
     "name": "stdout",
     "output_type": "stream",
     "text": [
      "<class 'pandas.core.frame.DataFrame'>\n",
      "RangeIndex: 200 entries, 0 to 199\n",
      "Data columns (total 4 columns):\n",
      "caption       200 non-null bool\n",
      "definition    200 non-null object\n",
      "duration      200 non-null object\n",
      "v_id          200 non-null object\n",
      "dtypes: bool(1), object(3)\n",
      "memory usage: 5.0+ KB\n",
      "None\n"
     ]
    },
    {
     "data": {
      "text/html": [
       "<div>\n",
       "<style>\n",
       "    .dataframe thead tr:only-child th {\n",
       "        text-align: right;\n",
       "    }\n",
       "\n",
       "    .dataframe thead th {\n",
       "        text-align: left;\n",
       "    }\n",
       "\n",
       "    .dataframe tbody tr th {\n",
       "        vertical-align: top;\n",
       "    }\n",
       "</style>\n",
       "<table border=\"1\" class=\"dataframe\">\n",
       "  <thead>\n",
       "    <tr style=\"text-align: right;\">\n",
       "      <th></th>\n",
       "      <th>caption</th>\n",
       "      <th>definition</th>\n",
       "      <th>duration</th>\n",
       "      <th>v_id</th>\n",
       "    </tr>\n",
       "  </thead>\n",
       "  <tbody>\n",
       "    <tr>\n",
       "      <th>0</th>\n",
       "      <td>True</td>\n",
       "      <td>hd</td>\n",
       "      <td>PT2M57S</td>\n",
       "      <td>khPLWaBioOs</td>\n",
       "    </tr>\n",
       "    <tr>\n",
       "      <th>1</th>\n",
       "      <td>True</td>\n",
       "      <td>hd</td>\n",
       "      <td>PT5M56S</td>\n",
       "      <td>t5_dSCu_mLY</td>\n",
       "    </tr>\n",
       "    <tr>\n",
       "      <th>2</th>\n",
       "      <td>True</td>\n",
       "      <td>hd</td>\n",
       "      <td>PT7M55S</td>\n",
       "      <td>r4VJ8o6yqzM</td>\n",
       "    </tr>\n",
       "    <tr>\n",
       "      <th>3</th>\n",
       "      <td>True</td>\n",
       "      <td>hd</td>\n",
       "      <td>PT28S</td>\n",
       "      <td>t5Lz14wu1uw</td>\n",
       "    </tr>\n",
       "    <tr>\n",
       "      <th>4</th>\n",
       "      <td>True</td>\n",
       "      <td>hd</td>\n",
       "      <td>PT10M26S</td>\n",
       "      <td>UH0nTHb6OdY</td>\n",
       "    </tr>\n",
       "  </tbody>\n",
       "</table>\n",
       "</div>"
      ],
      "text/plain": [
       "   caption definition  duration         v_id\n",
       "0     True         hd   PT2M57S  khPLWaBioOs\n",
       "1     True         hd   PT5M56S  t5_dSCu_mLY\n",
       "2     True         hd   PT7M55S  r4VJ8o6yqzM\n",
       "3     True         hd     PT28S  t5Lz14wu1uw\n",
       "4     True         hd  PT10M26S  UH0nTHb6OdY"
      ]
     },
     "execution_count": 18,
     "metadata": {},
     "output_type": "execute_result"
    }
   ],
   "source": [
    "df_cd = pd.DataFrame(content_details)\n",
    "print(df_cd.info())\n",
    "df_cd.head(5)"
   ]
  },
  {
   "cell_type": "code",
   "execution_count": 19,
   "metadata": {},
   "outputs": [
    {
     "name": "stdout",
     "output_type": "stream",
     "text": [
      "<class 'pandas.core.frame.DataFrame'>\n",
      "RangeIndex: 200 entries, 0 to 199\n",
      "Data columns (total 5 columns):\n",
      "channel_id       200 non-null object\n",
      "channel_title    200 non-null object\n",
      "country          200 non-null object\n",
      "num_videos       200 non-null int64\n",
      "subscribers      200 non-null int64\n",
      "dtypes: int64(2), object(3)\n",
      "memory usage: 7.9+ KB\n",
      "None\n"
     ]
    },
    {
     "data": {
      "text/html": [
       "<div>\n",
       "<style>\n",
       "    .dataframe thead tr:only-child th {\n",
       "        text-align: right;\n",
       "    }\n",
       "\n",
       "    .dataframe thead th {\n",
       "        text-align: left;\n",
       "    }\n",
       "\n",
       "    .dataframe tbody tr th {\n",
       "        vertical-align: top;\n",
       "    }\n",
       "</style>\n",
       "<table border=\"1\" class=\"dataframe\">\n",
       "  <thead>\n",
       "    <tr style=\"text-align: right;\">\n",
       "      <th></th>\n",
       "      <th>channel_id</th>\n",
       "      <th>channel_title</th>\n",
       "      <th>country</th>\n",
       "      <th>num_videos</th>\n",
       "      <th>subscribers</th>\n",
       "    </tr>\n",
       "  </thead>\n",
       "  <tbody>\n",
       "    <tr>\n",
       "      <th>0</th>\n",
       "      <td>UCj9DfRCLcjY9mFk29b2YyKw</td>\n",
       "      <td>The Scran Line</td>\n",
       "      <td>AU</td>\n",
       "      <td>325</td>\n",
       "      <td>356475</td>\n",
       "    </tr>\n",
       "    <tr>\n",
       "      <th>1</th>\n",
       "      <td>UCGGZ_POGmIWG1pQXTDzQv-g</td>\n",
       "      <td>Michelle Khare</td>\n",
       "      <td>US</td>\n",
       "      <td>60</td>\n",
       "      <td>645167</td>\n",
       "    </tr>\n",
       "    <tr>\n",
       "      <th>2</th>\n",
       "      <td>UCZYTClx2T1of7BRZ86-8fow</td>\n",
       "      <td>SciShow</td>\n",
       "      <td></td>\n",
       "      <td>1432</td>\n",
       "      <td>4621411</td>\n",
       "    </tr>\n",
       "    <tr>\n",
       "      <th>3</th>\n",
       "      <td>UCsZsDjpf2Ppv_cT2K6_q2cw</td>\n",
       "      <td>Refinery29</td>\n",
       "      <td></td>\n",
       "      <td>1191</td>\n",
       "      <td>724406</td>\n",
       "    </tr>\n",
       "    <tr>\n",
       "      <th>4</th>\n",
       "      <td>UCSrZ3UV4jOidv8ppoVuvW9Q</td>\n",
       "      <td>euronews (in English)</td>\n",
       "      <td></td>\n",
       "      <td>57217</td>\n",
       "      <td>344746</td>\n",
       "    </tr>\n",
       "  </tbody>\n",
       "</table>\n",
       "</div>"
      ],
      "text/plain": [
       "                 channel_id          channel_title country  num_videos  \\\n",
       "0  UCj9DfRCLcjY9mFk29b2YyKw         The Scran Line      AU         325   \n",
       "1  UCGGZ_POGmIWG1pQXTDzQv-g         Michelle Khare      US          60   \n",
       "2  UCZYTClx2T1of7BRZ86-8fow                SciShow                1432   \n",
       "3  UCsZsDjpf2Ppv_cT2K6_q2cw             Refinery29                1191   \n",
       "4  UCSrZ3UV4jOidv8ppoVuvW9Q  euronews (in English)               57217   \n",
       "\n",
       "   subscribers  \n",
       "0       356475  \n",
       "1       645167  \n",
       "2      4621411  \n",
       "3       724406  \n",
       "4       344746  "
      ]
     },
     "execution_count": 19,
     "metadata": {},
     "output_type": "execute_result"
    }
   ],
   "source": [
    "df_channels = pd.DataFrame(channels)\n",
    "print(df_channels.info())\n",
    "df_channels.head(5)"
   ]
  },
  {
   "cell_type": "code",
   "execution_count": 20,
   "metadata": {},
   "outputs": [
    {
     "data": {
      "text/html": [
       "<div>\n",
       "<style>\n",
       "    .dataframe thead tr:only-child th {\n",
       "        text-align: right;\n",
       "    }\n",
       "\n",
       "    .dataframe thead th {\n",
       "        text-align: left;\n",
       "    }\n",
       "\n",
       "    .dataframe tbody tr th {\n",
       "        vertical-align: top;\n",
       "    }\n",
       "</style>\n",
       "<table border=\"1\" class=\"dataframe\">\n",
       "  <thead>\n",
       "    <tr style=\"text-align: right;\">\n",
       "      <th></th>\n",
       "      <th>channel_id</th>\n",
       "      <th>channel_title</th>\n",
       "      <th>country</th>\n",
       "      <th>num_videos</th>\n",
       "      <th>subscribers</th>\n",
       "    </tr>\n",
       "  </thead>\n",
       "  <tbody>\n",
       "    <tr>\n",
       "      <th>122</th>\n",
       "      <td>UCupvZG-5ko_eiXAupbDfxWw</td>\n",
       "      <td>CNN</td>\n",
       "      <td></td>\n",
       "      <td>138889</td>\n",
       "      <td>2499961</td>\n",
       "    </tr>\n",
       "    <tr>\n",
       "      <th>5</th>\n",
       "      <td>UCKy1dAqELo0zrOtPkf0eTMw</td>\n",
       "      <td>IGN</td>\n",
       "      <td></td>\n",
       "      <td>124957</td>\n",
       "      <td>9034163</td>\n",
       "    </tr>\n",
       "    <tr>\n",
       "      <th>41</th>\n",
       "      <td>UC8p1vwvWtl6T73JiExfWs1g</td>\n",
       "      <td>CBS News</td>\n",
       "      <td></td>\n",
       "      <td>58201</td>\n",
       "      <td>492232</td>\n",
       "    </tr>\n",
       "    <tr>\n",
       "      <th>4</th>\n",
       "      <td>UCSrZ3UV4jOidv8ppoVuvW9Q</td>\n",
       "      <td>euronews (in English)</td>\n",
       "      <td></td>\n",
       "      <td>57217</td>\n",
       "      <td>344746</td>\n",
       "    </tr>\n",
       "    <tr>\n",
       "      <th>189</th>\n",
       "      <td>UCBi2mrWuNuyYy4gbM6fU18Q</td>\n",
       "      <td>ABC News</td>\n",
       "      <td>US</td>\n",
       "      <td>40550</td>\n",
       "      <td>3008666</td>\n",
       "    </tr>\n",
       "  </tbody>\n",
       "</table>\n",
       "</div>"
      ],
      "text/plain": [
       "                   channel_id          channel_title country  num_videos  \\\n",
       "122  UCupvZG-5ko_eiXAupbDfxWw                    CNN              138889   \n",
       "5    UCKy1dAqELo0zrOtPkf0eTMw                    IGN              124957   \n",
       "41   UC8p1vwvWtl6T73JiExfWs1g               CBS News               58201   \n",
       "4    UCSrZ3UV4jOidv8ppoVuvW9Q  euronews (in English)               57217   \n",
       "189  UCBi2mrWuNuyYy4gbM6fU18Q               ABC News      US       40550   \n",
       "\n",
       "     subscribers  \n",
       "122      2499961  \n",
       "5        9034163  \n",
       "41        492232  \n",
       "4         344746  \n",
       "189      3008666  "
      ]
     },
     "execution_count": 20,
     "metadata": {},
     "output_type": "execute_result"
    }
   ],
   "source": [
    "df_channels.sort_values(['num_videos'], ascending = False).head(5)"
   ]
  },
  {
   "cell_type": "code",
   "execution_count": 21,
   "metadata": {},
   "outputs": [
    {
     "data": {
      "text/html": [
       "<div>\n",
       "<style>\n",
       "    .dataframe thead tr:only-child th {\n",
       "        text-align: right;\n",
       "    }\n",
       "\n",
       "    .dataframe thead th {\n",
       "        text-align: left;\n",
       "    }\n",
       "\n",
       "    .dataframe tbody tr th {\n",
       "        vertical-align: top;\n",
       "    }\n",
       "</style>\n",
       "<table border=\"1\" class=\"dataframe\">\n",
       "  <thead>\n",
       "    <tr style=\"text-align: right;\">\n",
       "      <th></th>\n",
       "      <th>channel_id</th>\n",
       "      <th>channel_title</th>\n",
       "      <th>country</th>\n",
       "      <th>num_videos</th>\n",
       "      <th>subscribers</th>\n",
       "    </tr>\n",
       "  </thead>\n",
       "  <tbody>\n",
       "    <tr>\n",
       "      <th>96</th>\n",
       "      <td>UCBR8-60-B28hp2BmDPdntcQ</td>\n",
       "      <td>YouTube Spotlight</td>\n",
       "      <td></td>\n",
       "      <td>268</td>\n",
       "      <td>26768376</td>\n",
       "    </tr>\n",
       "    <tr>\n",
       "      <th>55</th>\n",
       "      <td>UC20vb-R_px4CguHzzBPhoyQ</td>\n",
       "      <td>EminemVEVO</td>\n",
       "      <td></td>\n",
       "      <td>69</td>\n",
       "      <td>24675063</td>\n",
       "    </tr>\n",
       "    <tr>\n",
       "      <th>167</th>\n",
       "      <td>UCRijo3ddMTht_IHyNSNXpNQ</td>\n",
       "      <td>Dude Perfect</td>\n",
       "      <td>US</td>\n",
       "      <td>168</td>\n",
       "      <td>24616136</td>\n",
       "    </tr>\n",
       "    <tr>\n",
       "      <th>32</th>\n",
       "      <td>UCp0hYYBW6IMayGgR-WeoCvQ</td>\n",
       "      <td>TheEllenShow</td>\n",
       "      <td>US</td>\n",
       "      <td>8155</td>\n",
       "      <td>21943853</td>\n",
       "    </tr>\n",
       "    <tr>\n",
       "      <th>63</th>\n",
       "      <td>UCSAUGyc_xA8uYzaIVG6MESQ</td>\n",
       "      <td>nigahiga</td>\n",
       "      <td></td>\n",
       "      <td>325</td>\n",
       "      <td>20321580</td>\n",
       "    </tr>\n",
       "  </tbody>\n",
       "</table>\n",
       "</div>"
      ],
      "text/plain": [
       "                   channel_id      channel_title country  num_videos  \\\n",
       "96   UCBR8-60-B28hp2BmDPdntcQ  YouTube Spotlight                 268   \n",
       "55   UC20vb-R_px4CguHzzBPhoyQ         EminemVEVO                  69   \n",
       "167  UCRijo3ddMTht_IHyNSNXpNQ       Dude Perfect      US         168   \n",
       "32   UCp0hYYBW6IMayGgR-WeoCvQ       TheEllenShow      US        8155   \n",
       "63   UCSAUGyc_xA8uYzaIVG6MESQ           nigahiga                 325   \n",
       "\n",
       "     subscribers  \n",
       "96      26768376  \n",
       "55      24675063  \n",
       "167     24616136  \n",
       "32      21943853  \n",
       "63      20321580  "
      ]
     },
     "execution_count": 21,
     "metadata": {},
     "output_type": "execute_result"
    }
   ],
   "source": [
    "df_channels.sort_values(['subscribers'], ascending = False).head(5)"
   ]
  },
  {
   "cell_type": "code",
   "execution_count": 22,
   "metadata": {},
   "outputs": [
    {
     "data": {
      "image/png": "[encoded data removed]",
      "text/plain": [
       "<matplotlib.figure.Figure at 0x230a204afd0>"
      ]
     },
     "metadata": {},
     "output_type": "display_data"
    }
   ],
   "source": [
    "plt.plot(df_channels['subscribers'], df_channels['num_videos'], 'bo')\n",
    "#plt.axis([0, 30000000,0,10000])\n",
    "plt.show()"
   ]
  },
  {
   "cell_type": "markdown",
   "metadata": {},
   "source": [
    "Below is the process to export our pandas dataframes into SQL. We form a connection to the kerr_h1 database in hadoop2.mathsci.denison.edu. Within the MySQL Workbench we created the empty tables by specifying each column and the data type for each. Primary keys were also identified within each table during this step. In order to avoid inserting duplicated data, there is a command to truncate (remove) all data that may be in the table before adding the information from the pandas dataframes."
   ]
  },
  {
   "cell_type": "code",
   "execution_count": 24,
   "metadata": {
    "collapsed": true
   },
   "outputs": [],
   "source": [
    "import importlib\n",
    "import keys\n",
    "from sqlalchemy import create_engine, Table, MetaData\n",
    "\n",
    "importlib.reload(keys)\n",
    "keychain = keys.keychain\n",
    "\n",
    "protocol = \"mysql+mysqlconnector\"\n",
    "userid = keychain['MySQL']['userid']\n",
    "userpass = keychain['MySQL']['userpass']\n",
    "mysqlhost = \"hadoop2.mathsci.denison.edu\"\n",
    "database = \"kerr_h1\"\n",
    "connectionstring = \"{}://{}:{}@{}/{}\".format(protocol, userid, userpass, mysqlhost, database)\n",
    "engine = create_engine(connectionstring)\n",
    "metadata = MetaData()\n"
   ]
  },
  {
   "cell_type": "code",
   "execution_count": 25,
   "metadata": {
    "collapsed": true
   },
   "outputs": [],
   "source": [
    "snippet = Table('snippet', metadata, autoload = True, autoload_with = engine)\n",
    "connection = engine.connect()\n",
    "\n",
    "stmt = \"\"\"TRUNCATE TABLE snippet\"\"\"\n",
    "connection.execute(stmt)\n",
    "\n",
    "stmt = \"\"\" INSERT INTO snippet (channel_id, channel_title, published_date, published_time, v_desc, v_id, v_title) \n",
    "VALUES (\"{}\", \"{}\", \"{}\", \"{}\", \"{}\", \"{}\", \"{}\")\"\"\"\n",
    "\n",
    "for item in df_snippet.index:\n",
    "    desc = df_snippet.loc[item]['v_desc']\n",
    "    desc = desc.replace(\"\\\"\",\"'\")\n",
    "    title = df_snippet.loc[item]['v_title']\n",
    "    title = title.replace(\"\\\"\",\"'\")\n",
    "    s = stmt.format(df_snippet.loc[item]['channel_id'], df_snippet.loc[item]['channel_title'], df_snippet.loc[item]['published_date'],df_snippet.loc[item]['published_time'], desc, df_snippet.loc[item]['v_id'], title)\n",
    "    connection.execute(s)"
   ]
  },
  {
   "cell_type": "code",
   "execution_count": 26,
   "metadata": {
    "collapsed": true,
    "scrolled": true
   },
   "outputs": [],
   "source": [
    "tags = Table('tags', metadata, autoload = True, autoload_with = engine)\n",
    "connection = engine.connect()\n",
    "\n",
    "stmt = \"\"\"TRUNCATE TABLE tags\"\"\"\n",
    "connection.execute(stmt)\n",
    "\n",
    "stmt = \"\"\" INSERT INTO tags (v_id, tag) \n",
    "VALUES (\"{}\", \"{}\")\"\"\"\n",
    "\n",
    "for item in df_tags.index:\n",
    "    tag = df_tags.loc[item]['tag']\n",
    "    is_ascii = all(ord(char)<128 for char in tag)\n",
    "    if is_ascii == True: \n",
    "        s = stmt.format(df_tags.loc[item]['v_id'], tag )\n",
    "        connection.execute(s)"
   ]
  },
  {
   "cell_type": "code",
   "execution_count": 27,
   "metadata": {
    "collapsed": true
   },
   "outputs": [],
   "source": [
    "stats = Table('stats', metadata, autoload = True, autoload_with = engine)\n",
    "connection = engine.connect()\n",
    "\n",
    "stmt = \"\"\"TRUNCATE TABLE stats\"\"\"\n",
    "connection.execute(stmt)\n",
    "\n",
    "stmt = \"\"\" INSERT INTO stats (comments, dislikes, likes, v_id, views) \n",
    "VALUES ({}, {}, {}, \"{}\", {})\"\"\"\n",
    "df_stats = df_stats.where((pd.notnull(df_stats)), -1)\n",
    "\n",
    "for item in df_stats.index:\n",
    "    s = stmt.format(df_stats.loc[item]['comments'], df_stats.loc[item]['dislikes'], df_stats.loc[item]['likes'], df_stats.loc[item]['v_id'],df_stats.loc[item]['views'])\n",
    "    connection.execute(s)"
   ]
  },
  {
   "cell_type": "code",
   "execution_count": 28,
   "metadata": {
    "collapsed": true
   },
   "outputs": [],
   "source": [
    "content_details = Table('content_details', metadata, autoload = True, autoload_with = engine)\n",
    "connection = engine.connect()\n",
    "\n",
    "stmt = \"\"\"TRUNCATE TABLE content_details\"\"\"\n",
    "connection.execute(stmt)\n",
    "\n",
    "stmt = \"\"\" INSERT INTO content_details (caption, definition, duration, v_id) \n",
    "VALUES ({}, \"{}\", \"{}\", \"{}\")\"\"\"\n",
    "\n",
    "for item in df_cd.index:\n",
    "    s = stmt.format(df_cd.loc[item]['caption'], df_cd.loc[item]['definition'], df_cd.loc[item]['duration'], df_cd.loc[item]['v_id'])\n",
    "    connection.execute(s)"
   ]
  },
  {
   "cell_type": "code",
   "execution_count": 29,
   "metadata": {
    "collapsed": true
   },
   "outputs": [],
   "source": [
    "channels = Table('channels', metadata, autoload = True, autoload_with = engine)\n",
    "connection = engine.connect()\n",
    "\n",
    "stmt = \"\"\"TRUNCATE TABLE channels\"\"\"\n",
    "connection.execute(stmt)\n",
    "\n",
    "stmt = \"\"\" INSERT INTO channels (channel_id, channel_title, country, num_videos, subscribers) \n",
    "VALUES (\"{}\", \"{}\", \"{}\", {}, {})\"\"\"\n",
    "\n",
    "for item in df_channels.index:\n",
    "    s = stmt.format(df_channels.loc[item]['channel_id'], df_channels.loc[item]['channel_title'], df_channels.loc[item]['country'], df_channels.loc[item]['num_videos'], df_channels.loc[item]['subscribers'])\n",
    "    connection.execute(s)"
   ]
  }
 ],
 "metadata": {
  "kernelspec": {
   "display_name": "Python 3",
   "language": "python",
   "name": "python3"
  },
  "language_info": {
   "codemirror_mode": {
    "name": "ipython",
    "version": 3
   },
   "file_extension": ".py",
   "mimetype": "text/x-python",
   "name": "python",
   "nbconvert_exporter": "python",
   "pygments_lexer": "ipython3",
   "version": "3.6.1"
  }
 },
 "nbformat": 4,
 "nbformat_minor": 2
}
